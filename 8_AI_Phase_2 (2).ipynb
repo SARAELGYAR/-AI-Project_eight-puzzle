{
  "nbformat": 4,
  "nbformat_minor": 0,
  "metadata": {
    "colab": {
      "provenance": []
    },
    "kernelspec": {
      "name": "python3",
      "display_name": "Python 3"
    },
    "language_info": {
      "name": "python"
    }
  },
  "cells": [
    {
      "cell_type": "code",
      "source": [
        "# Import necessary libraries\n",
        "import numpy as np\n",
        "import matplotlib.pyplot as plt\n",
        "import random"
      ],
      "metadata": {
        "id": "YULQ1rXhg8LI"
      },
      "execution_count": null,
      "outputs": []
    },
    {
      "cell_type": "code",
      "source": [
        "# Define the environment parameters\n",
        "grid_size = 40  # 40x40 grid\n",
        "start_state = (0, 0)\n",
        "goal_state = (39, 39)\n",
        "actions = ['up', 'down', 'left', 'right']  # Possible actions"
      ],
      "metadata": {
        "id": "JbpPArBoh7GP"
      },
      "execution_count": null,
      "outputs": []
    },
    {
      "cell_type": "code",
      "source": [
        "# Define the reward function\n",
        "def reward_function(state):\n",
        "    if state == goal_state:\n",
        "        return 100  # Reward for reaching the goal\n",
        "    else:\n",
        "        return -1  # Penalty for each step"
      ],
      "metadata": {
        "id": "qqZrNFB4iHMQ"
      },
      "execution_count": null,
      "outputs": []
    },
    {
      "cell_type": "code",
      "source": [
        "# Initialize Q-table\n",
        "q_table = np.zeros((grid_size, grid_size, len(actions)))"
      ],
      "metadata": {
        "id": "UqduuYgiiMxl"
      },
      "execution_count": null,
      "outputs": []
    },
    {
      "cell_type": "code",
      "source": [
        "# Parameters for Q-learning\n",
        "alpha = 0.1  # Learning rate\n",
        "gamma = 0.99  # Discount factor\n",
        "epsilon = 1.0  # Exploration rate\n",
        "epsilon_decay = 0.999\n",
        "min_epsilon = 0.01\n",
        "episodes = 100000  # Number of episodes"
      ],
      "metadata": {
        "id": "ILWtMyA7ix7e"
      },
      "execution_count": null,
      "outputs": []
    },
    {
      "cell_type": "code",
      "source": [
        "# Helper functions\n",
        "def get_next_state(state, action):\n",
        "    x, y = state\n",
        "    if action == 'up' and x > 0:\n",
        "        return (x - 1, y)\n",
        "    elif action == 'down' and x < grid_size - 1:\n",
        "        return (x + 1, y)\n",
        "    elif action == 'left' and y > 0:\n",
        "        return (x, y - 1)\n",
        "    elif action == 'right' and y < grid_size - 1:\n",
        "        return (x, y + 1)\n",
        "    return state\n",
        "\n",
        "def choose_action(state):\n",
        "    if random.uniform(0, 1) < epsilon:\n",
        "        return random.choice(actions)\n",
        "    else:\n",
        "        return actions[np.argmax(q_table[state[0], state[1]])]"
      ],
      "metadata": {
        "id": "F6rYwWgKjMX1"
      },
      "execution_count": null,
      "outputs": []
    },
    {
      "cell_type": "code",
      "source": [
        "# Training the agent\n",
        "rewards_per_episode = []\n",
        "for episode in range(episodes):\n",
        "    state = start_state\n",
        "    total_reward = 0\n",
        "\n",
        "    while state != goal_state:\n",
        "        action = choose_action(state)\n",
        "        next_state = get_next_state(state, action)\n",
        "        reward = reward_function(next_state)\n",
        "\n",
        "        action_index = actions.index(action)\n",
        "        max_next_q = np.max(q_table[next_state[0], next_state[1]])\n",
        "\n",
        "        # Update Q-value using the Q-learning formula\n",
        "        q_table[state[0], state[1], action_index] = q_table[state[0], state[1], action_index] + alpha * (reward + gamma * max_next_q - q_table[state[0], state[1], action_index])\n",
        "\n",
        "        state = next_state\n",
        "        total_reward += reward\n",
        "\n",
        "    rewards_per_episode.append(total_reward)\n",
        "\n",
        "    # Decay epsilon\n",
        "    epsilon = max(min_epsilon, epsilon * epsilon_decay)\n",
        "\n",
        "    # Log progress\n",
        "    if episode % 5000 == 0:\n",
        "        print(f\"Episode {episode}: Total Reward: {total_reward}\")\n"
      ],
      "metadata": {
        "colab": {
          "base_uri": "https://localhost:8080/"
        },
        "id": "L7J7gxlFj_kM",
        "outputId": "ffea45f1-2706-4e7d-9913-93ce834525f1"
      },
      "execution_count": null,
      "outputs": [
        {
          "output_type": "stream",
          "name": "stdout",
          "text": [
            "Episode 0: Total Reward: -16815\n",
            "Episode 5000: Total Reward: 23\n",
            "Episode 10000: Total Reward: 23\n",
            "Episode 15000: Total Reward: 23\n",
            "Episode 20000: Total Reward: 23\n",
            "Episode 25000: Total Reward: 17\n",
            "Episode 30000: Total Reward: 21\n",
            "Episode 35000: Total Reward: 23\n",
            "Episode 40000: Total Reward: 23\n",
            "Episode 45000: Total Reward: 23\n",
            "Episode 50000: Total Reward: 21\n",
            "Episode 55000: Total Reward: 23\n",
            "Episode 60000: Total Reward: 23\n",
            "Episode 65000: Total Reward: 23\n",
            "Episode 70000: Total Reward: 19\n",
            "Episode 75000: Total Reward: 23\n",
            "Episode 80000: Total Reward: 21\n",
            "Episode 85000: Total Reward: 23\n",
            "Episode 90000: Total Reward: 23\n",
            "Episode 95000: Total Reward: 23\n"
          ]
        }
      ]
    },
    {
      "cell_type": "code",
      "source": [
        "# Performance monitoring\n",
        "print(\"Final Q-Values near the goal:\", q_table[goal_state[0], goal_state[1]])\n",
        "print(\"Final Q-Values near the start:\", q_table[start_state[0], start_state[1]])"
      ],
      "metadata": {
        "colab": {
          "base_uri": "https://localhost:8080/"
        },
        "id": "PHqo7WKqkUIs",
        "outputId": "3dcac1cb-6057-4a78-941e-e5c3bf02b257"
      },
      "execution_count": null,
      "outputs": [
        {
          "output_type": "stream",
          "name": "stdout",
          "text": [
            "Final Q-Values near the goal: [0. 0. 0. 0.]\n",
            "Final Q-Values near the start: [-8.67805045 -7.75560652 -8.67805045 -9.59126995]\n"
          ]
        }
      ]
    },
    {
      "cell_type": "code",
      "source": [
        "# Policy evaluation\n",
        "def evaluate_policy():\n",
        "    paths = []\n",
        "    for start in [start_state, (10, 10), (30, 30), goal_state]:\n",
        "        state = start\n",
        "        path = []\n",
        "\n",
        "        while state != goal_state and len(path) < 500:\n",
        "            path.append(state)\n",
        "            action = actions[np.argmax(q_table[state[0], state[1]])]\n",
        "            state = get_next_state(state, action)\n",
        "\n",
        "        paths.append((start, len(path), state == goal_state))\n",
        "    return paths\n",
        "\n",
        "policy_results = evaluate_policy()\n",
        "for result in policy_results:\n",
        "    print(f\"Start: {result[0]} -> Path length: {result[1]} -> Goal reached: {result[2]}\")"
      ],
      "metadata": {
        "colab": {
          "base_uri": "https://localhost:8080/"
        },
        "id": "eK6BCkXmkcyk",
        "outputId": "036a09e0-698f-4e5f-cd19-3c704b35926b"
      },
      "execution_count": null,
      "outputs": [
        {
          "output_type": "stream",
          "name": "stdout",
          "text": [
            "Start: (0, 0) -> Path length: 78 -> Goal reached: True\n",
            "Start: (10, 10) -> Path length: 58 -> Goal reached: True\n",
            "Start: (30, 30) -> Path length: 20 -> Goal reached: True\n",
            "Start: (39, 39) -> Path length: 0 -> Goal reached: True\n"
          ]
        }
      ]
    },
    {
      "cell_type": "code",
      "source": [
        "# Plotting results\n",
        "plt.figure(figsize=(10, 6))\n",
        "plt.plot(rewards_per_episode)\n",
        "plt.title(\"Rewards Per Episode\")\n",
        "plt.xlabel(\"Episode\")\n",
        "plt.ylabel(\"Total Reward\")\n",
        "plt.show()"
      ],
      "metadata": {
        "colab": {
          "base_uri": "https://localhost:8080/",
          "height": 564
        },
        "id": "NVi_U8cqkqHs",
        "outputId": "dcfc59d2-e528-4d27-9d6f-cded223ae201"
      },
      "execution_count": null,
      "outputs": [
        {
          "output_type": "display_data",
          "data": {
            "text/plain": [
              "<Figure size 1000x600 with 1 Axes>"
            ],
            "image/png": "[encoded data removed]"
          },
          "metadata": {}
        }
      ]
    },
    {
      "cell_type": "code",
      "source": [
        "# Visualizing the path\n",
        "path_states = [start_state]\n",
        "state = start_state\n",
        "while state != goal_state and len(path_states) < 500:\n",
        "    action = actions[np.argmax(q_table[state[0], state[1]])]\n",
        "    state = get_next_state(state, action)\n",
        "    path_states.append(state)\n",
        "\n",
        "# Create a grid to display the path\n",
        "grid = np.zeros((grid_size, grid_size))\n",
        "for x, y in path_states:\n",
        "    grid[x, y] = 1\n",
        "grid[goal_state[0], goal_state[1]] = 2\n",
        "\n",
        "plt.figure(figsize=(6, 6))\n",
        "plt.imshow(grid, cmap=\"Blues\")\n",
        "plt.title(\"Agent Path\")\n",
        "plt.show()"
      ],
      "metadata": {
        "colab": {
          "base_uri": "https://localhost:8080/",
          "height": 545
        },
        "id": "iW0tbdf1kxmN",
        "outputId": "b2afe455-6275-4745-cf35-0651280a2a37"
      },
      "execution_count": null,
      "outputs": [
        {
          "output_type": "display_data",
          "data": {
            "text/plain": [
              "<Figure size 600x600 with 1 Axes>"
            ],
            "image/png": "[encoded data removed]"
          },
          "metadata": {}
        }
      ]
    }
  ]
}